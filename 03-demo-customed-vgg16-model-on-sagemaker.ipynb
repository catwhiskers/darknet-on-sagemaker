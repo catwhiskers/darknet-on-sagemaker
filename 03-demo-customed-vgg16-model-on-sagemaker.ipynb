{
 "cells": [
  {
   "cell_type": "markdown",
   "metadata": {},
   "source": [
    "### Build and push docker image from ECR \n",
    "* Get aws account related variables such as account id and region and compose the full docker image name \n",
    "* Dockerfile takes the fullname as a parameter to build docker image \n",
    "* Push to ecr"
   ]
  },
  {
   "cell_type": "code",
   "execution_count": null,
   "metadata": {},
   "outputs": [],
   "source": [
    "%%bash\n",
    "./vgg16-tl-tf22-build_and_push.sh"
   ]
  },
  {
   "cell_type": "code",
   "execution_count": null,
   "metadata": {},
   "outputs": [],
   "source": [
    "%env fullname=230755935769.dkr.ecr.us-east-1.amazonaws.com/vgg16-tl-tf"
   ]
  },
  {
   "cell_type": "code",
   "execution_count": null,
   "metadata": {},
   "outputs": [],
   "source": [
    "!echo $fullname "
   ]
  },
  {
   "cell_type": "code",
   "execution_count": null,
   "metadata": {},
   "outputs": [],
   "source": [
    "!pygmentize vgg16-tl-tf22-build_and_push.sh"
   ]
  },
  {
   "cell_type": "code",
   "execution_count": null,
   "metadata": {},
   "outputs": [],
   "source": [
    "!pygmentize tf22-container/Dockerfile"
   ]
  },
  {
   "cell_type": "code",
   "execution_count": null,
   "metadata": {},
   "outputs": [],
   "source": [
    "!pygmentize tf22-container/main.py"
   ]
  },
  {
   "cell_type": "markdown",
   "metadata": {},
   "source": [
    "#### training locally \n",
    "* test container locally by dogs_and_cat.zip "
   ]
  },
  {
   "cell_type": "markdown",
   "metadata": {},
   "source": [
    "### Put your own training data set according to following structure - and you are good to go \n",
    "* `$ROOT_FOLDER/input/data/$label/*.jpg`"
   ]
  },
  {
   "cell_type": "code",
   "execution_count": null,
   "metadata": {},
   "outputs": [],
   "source": [
    "!wget -O dogs_and_cat.zip \"https://tinyurl.com/y3wmmygo\"\n",
    "!unzip dogs_and_cat.zip "
   ]
  },
  {
   "cell_type": "code",
   "execution_count": null,
   "metadata": {},
   "outputs": [],
   "source": [
    "!nvidia-docker run -it -v ${PWD}/dogs_and_cat:/opt/ml/ \\\n",
    "    $fullname  train "
   ]
  },
  {
   "cell_type": "code",
   "execution_count": null,
   "metadata": {},
   "outputs": [],
   "source": [
    "!aws s3 mb s3://ws-yolov4-yianc/ --region us-east-1"
   ]
  },
  {
   "cell_type": "code",
   "execution_count": null,
   "metadata": {},
   "outputs": [],
   "source": [
    "!aws s3 cp --recursive dogs_and_cat s3://ws-yolov4-yianc/dogs_and_cat"
   ]
  },
  {
   "cell_type": "code",
   "execution_count": null,
   "metadata": {},
   "outputs": [],
   "source": [
    "import boto3\n",
    "region = boto3.session.Session().region_name\n",
    "bucket = 'ws-yolov4-yianc'\n"
   ]
  },
  {
   "cell_type": "code",
   "execution_count": null,
   "metadata": {},
   "outputs": [],
   "source": [
    "account=boto3.client('sts').get_caller_identity().get('Account')\n",
    "repositoryUri=\"{}.dkr.ecr.{}.amazonaws.com/vgg16-tl-tf\".format(account, region)\n",
    "repositoryUri"
   ]
  },
  {
   "cell_type": "code",
   "execution_count": null,
   "metadata": {},
   "outputs": [],
   "source": [
    "from datetime import datetime\n",
    "now = datetime.now()\n",
    "job_name = 'vgg16-' + now.strftime(\"%Y-%m-%d-%H-%M-%S\")\n",
    "job_name"
   ]
  },
  {
   "cell_type": "code",
   "execution_count": null,
   "metadata": {},
   "outputs": [],
   "source": [
    "import sagemaker\n",
    "from sagemaker import get_execution_role\n",
    "role = get_execution_role()"
   ]
  },
  {
   "cell_type": "code",
   "execution_count": null,
   "metadata": {},
   "outputs": [],
   "source": [
    "\n",
    "train='s3://{}/dogs_and_cat/input/data/train/'.format(bucket)\n",
    "validation='s3://{}/dogs_and_cat/input/data/validation/'.format(bucket)\n",
    "outpath='s3://{}/model/'.format(bucket)\n",
    "(train, validation, outpath) \n"
   ]
  },
  {
   "cell_type": "code",
   "execution_count": null,
   "metadata": {},
   "outputs": [],
   "source": [
    "sm = boto3.client('sagemaker')\n",
    "\n",
    "response = sm.create_training_job(\n",
    "      TrainingJobName=job_name,\n",
    "      AlgorithmSpecification={\n",
    "          'TrainingImage': repositoryUri,\n",
    "          'TrainingInputMode': 'File'\n",
    "      },\n",
    "      RoleArn=role,\n",
    "      InputDataConfig=[\n",
    "          {\n",
    "              'ChannelName': 'train',\n",
    "              'DataSource': {\n",
    "                  'S3DataSource': {\n",
    "                      'S3DataType': 'S3Prefix',\n",
    "                      'S3Uri': train,\n",
    "                      'S3DataDistributionType': 'FullyReplicated',\n",
    "                  },\n",
    "              },\n",
    "              'InputMode': 'File'\n",
    "          },\n",
    "          {\n",
    "              'ChannelName': 'validation',\n",
    "              'DataSource': {\n",
    "                  'S3DataSource': {\n",
    "                      'S3DataType': 'S3Prefix',                      \n",
    "                      'S3Uri': validation,\n",
    "                      'S3DataDistributionType': 'FullyReplicated',\n",
    "                  },\n",
    "              },\n",
    "              'InputMode': 'File'\n",
    "          },\n",
    "          \n",
    "      ],\n",
    "      OutputDataConfig={\n",
    "          'S3OutputPath': outpath\n",
    "      },\n",
    "      ResourceConfig={\n",
    "          'InstanceType': 'ml.p3.2xlarge',\n",
    "          'InstanceCount': 1,\n",
    "          'VolumeSizeInGB': 10,\n",
    "      },\n",
    "      StoppingCondition={\n",
    "        'MaxRuntimeInSeconds': 60*60*5,\n",
    "      }\n",
    "  )\n",
    "response"
   ]
  },
  {
   "cell_type": "code",
   "execution_count": null,
   "metadata": {},
   "outputs": [],
   "source": []
  }
 ],
 "metadata": {
  "kernelspec": {
   "display_name": "conda_python3",
   "language": "python",
   "name": "conda_python3"
  },
  "language_info": {
   "codemirror_mode": {
    "name": "ipython",
    "version": 3
   },
   "file_extension": ".py",
   "mimetype": "text/x-python",
   "name": "python",
   "nbconvert_exporter": "python",
   "pygments_lexer": "ipython3",
   "version": "3.6.10"
  }
 },
 "nbformat": 4,
 "nbformat_minor": 4
}
