{
 "cells": [
  {
   "cell_type": "markdown",
   "metadata": {},
   "source": [
    "### Build and push docker image from ECR \n",
    "* Get aws account related variables such as account id and region and compose the full docker image name \n",
    "* Dockerfile takes the fullname as a parameter to build docker image \n",
    "* Push to ecr"
   ]
  },
  {
   "cell_type": "code",
   "execution_count": null,
   "metadata": {},
   "outputs": [],
   "source": [
    "%%bash\n",
    "./build-and-push.sh"
   ]
  },
  {
   "cell_type": "markdown",
   "metadata": {},
   "source": [
    "* changed to your own image uri"
   ]
  },
  {
   "cell_type": "code",
   "execution_count": null,
   "metadata": {},
   "outputs": [],
   "source": [
    "%env fullname=230755935769.dkr.ecr.us-east-1.amazonaws.com/yolo-tensorflow"
   ]
  },
  {
   "cell_type": "code",
   "execution_count": null,
   "metadata": {
    "scrolled": true
   },
   "outputs": [],
   "source": [
    "!echo $fullname "
   ]
  },
  {
   "cell_type": "code",
   "execution_count": null,
   "metadata": {},
   "outputs": [],
   "source": [
    "!pygmentize build-and-push.sh"
   ]
  },
  {
   "cell_type": "code",
   "execution_count": null,
   "metadata": {},
   "outputs": [],
   "source": [
    "!pygmentize container/Dockerfile"
   ]
  },
  {
   "cell_type": "code",
   "execution_count": null,
   "metadata": {},
   "outputs": [],
   "source": [
    "!pygmentize container/main.py"
   ]
  },
  {
   "cell_type": "markdown",
   "metadata": {},
   "source": [
    "#### training data file structure \n",
    "* files under cfg - data descriptors and model config \n",
    "* files under dinfo - paths to training images \n",
    "* files under train2014 - image files and labels "
   ]
  },
  {
   "cell_type": "code",
   "execution_count": null,
   "metadata": {},
   "outputs": [],
   "source": [
    "!wget -O demo.zip \"https://tinyurl.com/y2lyes4z\"\n",
    "!unzip demo.zip \n",
    "!mv sagemaker_training_job /home/ec2-user/sagemaker_training_job"
   ]
  },
  {
   "cell_type": "code",
   "execution_count": null,
   "metadata": {},
   "outputs": [],
   "source": [
    "import os \n",
    "def list_files(startpath):\n",
    "    for root, dirs, files in os.walk(startpath):\n",
    "        level = root.replace(startpath, '').count(os.sep)\n",
    "        indent = ' ' * 4 * (level)\n",
    "        print('{}{}/'.format(indent, os.path.basename(root)))\n",
    "        subindent = ' ' * 4 * (level + 1)\n",
    "        for f in files:\n",
    "            print('{}{}'.format(subindent, f))\n",
    "            \n",
    "list_files('/home/ec2-user/sagemaker_training_job/')            "
   ]
  },
  {
   "cell_type": "markdown",
   "metadata": {},
   "source": [
    "* create your own s3 bucket! "
   ]
  },
  {
   "cell_type": "markdown",
   "metadata": {},
   "source": [
    "### create or reuse your own s3\n",
    "* note, the name of each s3 bucket has to be unique "
   ]
  },
  {
   "cell_type": "code",
   "execution_count": null,
   "metadata": {},
   "outputs": [],
   "source": [
    "!aws s3 mb s3://ws-yolov4-yianc/ --region us-east-1"
   ]
  },
  {
   "cell_type": "code",
   "execution_count": null,
   "metadata": {},
   "outputs": [],
   "source": [
    "!aws s3 cp --recursive /home/ec2-user/sagemaker_training_job s3://ws-yolov4-yianc/sagemaker_training_job"
   ]
  },
  {
   "cell_type": "code",
   "execution_count": null,
   "metadata": {},
   "outputs": [],
   "source": [
    "import boto3\n",
    "region = boto3.session.Session().region_name\n",
    "bucket = 'ws-yolov4-yianc'\n"
   ]
  },
  {
   "cell_type": "code",
   "execution_count": null,
   "metadata": {},
   "outputs": [],
   "source": [
    "account=boto3.client('sts').get_caller_identity().get('Account')\n",
    "repositoryUri=\"{}.dkr.ecr.{}.amazonaws.com/yolo-tensorflow\".format(account, region)\n",
    "repositoryUri"
   ]
  },
  {
   "cell_type": "code",
   "execution_count": null,
   "metadata": {},
   "outputs": [],
   "source": [
    "from datetime import datetime\n",
    "now = datetime.now()\n",
    "job_name = 'yolov4-' + now.strftime(\"%Y-%m-%d-%H-%M-%S\")\n",
    "job_name"
   ]
  },
  {
   "cell_type": "code",
   "execution_count": null,
   "metadata": {},
   "outputs": [],
   "source": [
    "import sagemaker\n",
    "from sagemaker import get_execution_role\n",
    "role = get_execution_role()"
   ]
  },
  {
   "cell_type": "code",
   "execution_count": null,
   "metadata": {},
   "outputs": [],
   "source": [
    "cfg='s3://{}/sagemaker_training_job/cfg/'.format(bucket)\n",
    "dinfo='s3://{}/sagemaker_training_job/dinfo/'.format(bucket)\n",
    "yolo_model='s3://{}/sagemaker_training_job/yolo_model/'.format(bucket)\n",
    "train='s3://{}/sagemaker_training_job/train/'.format(bucket)\n",
    "config_path='s3://{}/sagemaker_training_job/config_path/'.format(bucket)\n",
    "outpath='s3://{}/model/'.format(bucket)\n",
    "(cfg, dinfo, train, config_path, yolo_model, outpath) \n"
   ]
  },
  {
   "cell_type": "markdown",
   "metadata": {},
   "source": [
    "### Install sagemaker experiments sdk "
   ]
  },
  {
   "cell_type": "code",
   "execution_count": null,
   "metadata": {},
   "outputs": [],
   "source": [
    "import sys\n",
    "!{sys.executable} -m pip install sagemaker-experiments==0.1.24"
   ]
  },
  {
   "cell_type": "markdown",
   "metadata": {},
   "source": [
    "### Create an Experiment "
   ]
  },
  {
   "cell_type": "code",
   "execution_count": null,
   "metadata": {},
   "outputs": [],
   "source": [
    "from smexperiments.experiment import Experiment\n",
    "from smexperiments.trial import Trial\n",
    "from datetime import datetime\n",
    "\n",
    "# from smexperiments.trial_component import TrialComponent\n",
    "# from smexperiments.tracker import Tracker\n",
    "sess = boto3.Session()\n",
    "sm = sess.client('sagemaker')\n",
    "now = datetime.now()\n",
    "yolov4_experiment = Experiment.create(\n",
    "    experiment_name=\"yolov4-parameter-tuning-\"+now.strftime(\"%Y-%m-%d-%H-%M-%S\"), \n",
    "    description=\"try to tune yolov4 parameters\", \n",
    "    sagemaker_boto_client=sm)\n",
    "print(yolov4_experiment)"
   ]
  },
  {
   "cell_type": "markdown",
   "metadata": {},
   "source": [
    "### Add training jobs to experiment "
   ]
  },
  {
   "cell_type": "code",
   "execution_count": null,
   "metadata": {},
   "outputs": [],
   "source": [
    "\n",
    "import time \n",
    "\n",
    "\n",
    "for learning_rate in [0.001, 0.002, 0.005, 0.1]: \n",
    "    now = datetime.now()\n",
    "    job_name = 'yolov4-' + now.strftime(\"%Y-%m-%d-%H-%M-%S\")\n",
    "    trial_name = f\"yolo-v4-training-job-{str(learning_rate).replace('.', '-')}-learning-rate-\"+now.strftime(\"%Y-%m-%d-%H-%M-%S\")\n",
    "    yolov4_trial = Trial.create(\n",
    "        trial_name=trial_name, \n",
    "        experiment_name=yolov4_experiment.experiment_name,\n",
    "        sagemaker_boto_client=sm,\n",
    "    )\n",
    "    \n",
    "    response = sm.create_training_job(\n",
    "      TrainingJobName=job_name,\n",
    "      HyperParameters={'max_batches':'50', 'learning_rate':str(learning_rate)},\n",
    "      AlgorithmSpecification={\n",
    "          'TrainingImage': repositoryUri,\n",
    "          'TrainingInputMode': 'File',\n",
    "          \"MetricDefinitions\" : [\n",
    "            {\n",
    "            \"Name\": \"IOU\",\n",
    "            \"Regex\": \"\\(IOU: (.*?),\"\n",
    "            },\n",
    "             {\n",
    "            \"Name\": \"GIOU\",\n",
    "            \"Regex\": \"GIOU: (.*?)\\)\"\n",
    "            }]\n",
    "      },\n",
    "      RoleArn=role,\n",
    "      InputDataConfig=[\n",
    "          {\n",
    "              'ChannelName': 'cfg',\n",
    "              'DataSource': {\n",
    "                  'S3DataSource': {\n",
    "                      'S3DataType': 'S3Prefix',\n",
    "                      'S3Uri': cfg,\n",
    "                      'S3DataDistributionType': 'FullyReplicated',\n",
    "                  },\n",
    "              },\n",
    "              'InputMode': 'File'\n",
    "          },\n",
    "          {\n",
    "              'ChannelName': 'train',\n",
    "              'DataSource': {\n",
    "                  'S3DataSource': {\n",
    "                      'S3DataType': 'S3Prefix',                      \n",
    "                      'S3Uri': train,\n",
    "                      'S3DataDistributionType': 'FullyReplicated',\n",
    "                  },\n",
    "              },\n",
    "              'InputMode': 'File'\n",
    "          },\n",
    "          {\n",
    "              'ChannelName': 'config_path',\n",
    "              'DataSource': {\n",
    "                  'S3DataSource': {\n",
    "                      'S3DataType': 'S3Prefix',                      \n",
    "                      'S3Uri': config_path,\n",
    "                      'S3DataDistributionType': 'FullyReplicated',\n",
    "                  },\n",
    "              },\n",
    "              'InputMode': 'File'\n",
    "          },\n",
    "          {\n",
    "              'ChannelName': 'dinfo',\n",
    "              'DataSource': {\n",
    "                  'S3DataSource': {\n",
    "                      'S3DataType': 'S3Prefix',                      \n",
    "                      'S3Uri': dinfo,\n",
    "                      'S3DataDistributionType': 'FullyReplicated',\n",
    "                  },\n",
    "              },\n",
    "              'InputMode': 'File'\n",
    "          },\n",
    "          {\n",
    "              'ChannelName': 'yolo_model',\n",
    "              'DataSource': {\n",
    "                  'S3DataSource': {\n",
    "                      'S3DataType': 'S3Prefix',                      \n",
    "                      'S3Uri': yolo_model,\n",
    "                      'S3DataDistributionType': 'FullyReplicated',\n",
    "                  },\n",
    "              },\n",
    "              'InputMode': 'File'\n",
    "          },\n",
    "      ],\n",
    "      OutputDataConfig={\n",
    "          'S3OutputPath': outpath\n",
    "      },\n",
    "      ResourceConfig={\n",
    "          'InstanceType': 'ml.p3.2xlarge',\n",
    "          'InstanceCount': 1,\n",
    "          'VolumeSizeInGB': 10,\n",
    "      },\n",
    "      StoppingCondition={\n",
    "        'MaxRuntimeInSeconds': 60*60*5,\n",
    "      }, \n",
    "      ExperimentConfig={\n",
    "            \"TrialName\": yolov4_trial.trial_name,\n",
    "            \"TrialComponentDisplayName\": \"Training\",\n",
    "      },  \n",
    "    )\n",
    "    print(response) \n",
    "    response = sm.describe_training_job(\n",
    "        TrainingJobName=job_name\n",
    "    )\n",
    "    while response['TrainingJobStatus'] == 'InProgress': \n",
    "        response = sm.describe_training_job(\n",
    "        TrainingJobName=job_name)\n",
    "        time.sleep(10)"
   ]
  },
  {
   "cell_type": "markdown",
   "metadata": {},
   "source": [
    "### Analyze the results "
   ]
  },
  {
   "cell_type": "code",
   "execution_count": null,
   "metadata": {},
   "outputs": [],
   "source": [
    "search_expression = {\n",
    "    \"Filters\":[\n",
    "        {\n",
    "            \"Name\": \"DisplayName\",\n",
    "            \"Operator\": \"Equals\",\n",
    "            \"Value\": \"Training\",\n",
    "        }\n",
    "    ],\n",
    "}"
   ]
  },
  {
   "cell_type": "code",
   "execution_count": null,
   "metadata": {},
   "outputs": [],
   "source": [
    "from sagemaker.analytics import ExperimentAnalytics\n",
    "from sagemaker.session import Session\n",
    "trial_component_analytics = ExperimentAnalytics(\n",
    "    sagemaker_session=Session(sess, sm), \n",
    "    experiment_name=yolov4_experiment.experiment_name,\n",
    "    search_expression=search_expression,\n",
    "    sort_by=\"metrics.IOU:IOU.max\",\n",
    "    sort_order=\"Descending\",\n",
    "    metric_names=['IOU', 'GIOU'],\n",
    "    parameter_names=['learning_rate']\n",
    ")"
   ]
  },
  {
   "cell_type": "code",
   "execution_count": null,
   "metadata": {},
   "outputs": [],
   "source": [
    "trial_component_analytics.dataframe()"
   ]
  },
  {
   "cell_type": "code",
   "execution_count": null,
   "metadata": {},
   "outputs": [],
   "source": []
  }
 ],
 "metadata": {
  "kernelspec": {
   "display_name": "conda_python3",
   "language": "python",
   "name": "conda_python3"
  },
  "language_info": {
   "codemirror_mode": {
    "name": "ipython",
    "version": 3
   },
   "file_extension": ".py",
   "mimetype": "text/x-python",
   "name": "python",
   "nbconvert_exporter": "python",
   "pygments_lexer": "ipython3",
   "version": "3.6.10"
  }
 },
 "nbformat": 4,
 "nbformat_minor": 4
}
