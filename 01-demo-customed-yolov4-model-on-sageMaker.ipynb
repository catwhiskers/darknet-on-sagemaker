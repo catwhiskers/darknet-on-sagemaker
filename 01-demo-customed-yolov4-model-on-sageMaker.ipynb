{
 "cells": [
  {
   "cell_type": "markdown",
   "metadata": {},
   "source": [
    "### Build and push docker image from ECR \n",
    "* Get aws account related variables such as account id and region and compose the full docker image name \n",
    "* Dockerfile takes the fullname as a parameter to build docker image \n",
    "* Push to ecr"
   ]
  },
  {
   "cell_type": "code",
   "execution_count": null,
   "metadata": {},
   "outputs": [],
   "source": [
    "%%bash\n",
    "./build-and-push.sh"
   ]
  },
  {
   "cell_type": "markdown",
   "metadata": {},
   "source": [
    "* changed to your own image uri"
   ]
  },
  {
   "cell_type": "code",
   "execution_count": null,
   "metadata": {},
   "outputs": [],
   "source": [
    "%env fullname=230755935769.dkr.ecr.us-east-1.amazonaws.com/yolo-tensorflow"
   ]
  },
  {
   "cell_type": "code",
   "execution_count": null,
   "metadata": {},
   "outputs": [],
   "source": [
    "!echo $fullname "
   ]
  },
  {
   "cell_type": "code",
   "execution_count": null,
   "metadata": {},
   "outputs": [],
   "source": [
    "!pygmentize build-and-push.sh"
   ]
  },
  {
   "cell_type": "code",
   "execution_count": null,
   "metadata": {},
   "outputs": [],
   "source": [
    "!pygmentize container/Dockerfile"
   ]
  },
  {
   "cell_type": "code",
   "execution_count": null,
   "metadata": {},
   "outputs": [],
   "source": [
    "!pygmentize container/main.py"
   ]
  },
  {
   "cell_type": "markdown",
   "metadata": {},
   "source": [
    "#### training data file structure \n",
    "* files under cfg - data descriptors and model config \n",
    "* files under dinfo - paths to training images \n",
    "* files under train2014 - image files and labels "
   ]
  },
  {
   "cell_type": "code",
   "execution_count": null,
   "metadata": {},
   "outputs": [],
   "source": [
    "!wget -O demo.zip \"https://tinyurl.com/y3tx7nh9\"\n",
    "!unzip demo.zip \n",
    "!mv sagemaker_training_job /home/ec2-user/sagemaker_training_job"
   ]
  },
  {
   "cell_type": "code",
   "execution_count": null,
   "metadata": {},
   "outputs": [],
   "source": [
    "import os \n",
    "def list_files(startpath):\n",
    "    for root, dirs, files in os.walk(startpath):\n",
    "        level = root.replace(startpath, '').count(os.sep)\n",
    "        indent = ' ' * 4 * (level)\n",
    "        print('{}{}/'.format(indent, os.path.basename(root)))\n",
    "        subindent = ' ' * 4 * (level + 1)\n",
    "        for f in files:\n",
    "            print('{}{}'.format(subindent, f))\n",
    "            \n",
    "list_files('/home/ec2-user/sagemaker_training_job/')            "
   ]
  },
  {
   "cell_type": "code",
   "execution_count": null,
   "metadata": {},
   "outputs": [],
   "source": [
    "!cat /home/ec2-user/sagemaker_training_job/config_path/config.json"
   ]
  },
  {
   "cell_type": "code",
   "execution_count": null,
   "metadata": {},
   "outputs": [],
   "source": [
    "!cat /home/ec2-user/sagemaker_training_job/dinfo/obj.data "
   ]
  },
  {
   "cell_type": "code",
   "execution_count": null,
   "metadata": {},
   "outputs": [],
   "source": [
    "!cat /home/ec2-user/sagemaker_training_job/dinfo/train.txt"
   ]
  },
  {
   "cell_type": "code",
   "execution_count": null,
   "metadata": {},
   "outputs": [],
   "source": [
    "!cat /home/ec2-user/sagemaker_training_job/cfg/yolov4.cfg "
   ]
  },
  {
   "cell_type": "markdown",
   "metadata": {},
   "source": [
    "#### Yolo V4 "
   ]
  },
  {
   "cell_type": "code",
   "execution_count": null,
   "metadata": {},
   "outputs": [],
   "source": [
    "from IPython.display import Image\n",
    "Image('/home/ec2-user/sagemaker_training_job/COCO_train2014_000000387731.jpg')"
   ]
  },
  {
   "cell_type": "code",
   "execution_count": null,
   "metadata": {},
   "outputs": [],
   "source": [
    "!nvidia-docker run -it -v /home/ec2-user/sagemaker_training_job:/opt/ml/input/data \\\n",
    "    $fullname \\\n",
    "    predict_local \\\n",
    "    /opt/ml/input/data/cfg/yolov4.cfg \\\n",
    "    /opt/ml/input/data/dinfo/coco.data \\\n",
    "    /opt/ml/input/data/yolo_model/yolov4.weights \\\n",
    "    /opt/ml/input/data/COCO_train2014_000000387731.jpg \\\n",
    "    /opt/ml/input/data/    "
   ]
  },
  {
   "cell_type": "code",
   "execution_count": null,
   "metadata": {},
   "outputs": [],
   "source": [
    "Image('/home/ec2-user/sagemaker_training_job/predictions.jpg')"
   ]
  },
  {
   "cell_type": "code",
   "execution_count": null,
   "metadata": {},
   "outputs": [],
   "source": [
    "Image('/home/ec2-user/sagemaker_training_job/BloodImage_00203_jpg.rf.7e1e0baedaf6227f45f74ed5727ccec8.jpg')"
   ]
  },
  {
   "cell_type": "code",
   "execution_count": null,
   "metadata": {},
   "outputs": [],
   "source": [
    "!nvidia-docker run -it -v /home/ec2-user/sagemaker_training_job:/opt/ml/input/data \\\n",
    "    $fullname \\\n",
    "    predict_local \\\n",
    "    /opt/ml/input/data/cfg/yolov4.cfg \\\n",
    "    /opt/ml/input/data/dinfo/coco.data \\\n",
    "    /opt/ml/input/data/yolo_model/yolov4.weights \\\n",
    "    /opt/ml/input/data/BloodImage_00203_jpg.rf.7e1e0baedaf6227f45f74ed5727ccec8.jpg \\\n",
    "    /opt/ml/input/data"
   ]
  },
  {
   "cell_type": "code",
   "execution_count": null,
   "metadata": {
    "scrolled": true
   },
   "outputs": [],
   "source": [
    "Image('/home/ec2-user/sagemaker_training_job/predictions.jpg')"
   ]
  },
  {
   "cell_type": "markdown",
   "metadata": {},
   "source": [
    "#### Transfer Yolo V4 model into blood cells recognition "
   ]
  },
  {
   "cell_type": "code",
   "execution_count": null,
   "metadata": {},
   "outputs": [],
   "source": [
    "!nvidia-docker run -it -v /home/ec2-user/sagemaker_training_job:/opt/ml/input/data \\\n",
    "    $fullname \\\n",
    "    train\n"
   ]
  },
  {
   "cell_type": "code",
   "execution_count": null,
   "metadata": {},
   "outputs": [],
   "source": [
    "!nvidia-docker run -it -v /home/ec2-user/sagemaker_training_job:/opt/ml/input/data \\\n",
    "    $fullname \\\n",
    "    predict_local \\\n",
    "    /opt/ml/input/data/cfg/custom-yolov4-detector.cfg \\\n",
    "    /opt/ml/input/data/dinfo/obj.data \\\n",
    "    /opt/ml/input/data/last_backup/custom-yolov4-detector_final.weights \\\n",
    "    /opt/ml/input/data/BloodImage_00203_jpg.rf.7e1e0baedaf6227f45f74ed5727ccec8.jpg \\\n",
    "    /opt/ml/input/data"
   ]
  },
  {
   "cell_type": "code",
   "execution_count": null,
   "metadata": {
    "scrolled": true
   },
   "outputs": [],
   "source": [
    "from IPython.display import Image\n",
    "Image('/home/ec2-user/sagemaker_training_job/predictions.jpg')"
   ]
  },
  {
   "cell_type": "markdown",
   "metadata": {},
   "source": [
    "* create your own s3 bucket! "
   ]
  },
  {
   "cell_type": "code",
   "execution_count": null,
   "metadata": {},
   "outputs": [],
   "source": [
    "!aws s3 mb s3://ws-yolov4-yianc/ --region us-east-1"
   ]
  },
  {
   "cell_type": "code",
   "execution_count": null,
   "metadata": {},
   "outputs": [],
   "source": [
    "!aws s3 cp --recursive /home/ec2-user/sagemaker_training_job s3://ws-yolov4-yianc/sagemaker_training_job"
   ]
  },
  {
   "cell_type": "code",
   "execution_count": null,
   "metadata": {},
   "outputs": [],
   "source": [
    "import boto3\n",
    "region = boto3.session.Session().region_name\n",
    "bucket = 'ws-yolov4-yianc'\n"
   ]
  },
  {
   "cell_type": "code",
   "execution_count": null,
   "metadata": {},
   "outputs": [],
   "source": [
    "account=boto3.client('sts').get_caller_identity().get('Account')\n",
    "repositoryUri=\"{}.dkr.ecr.{}.amazonaws.com/yolo-tensorflow\".format(account, region)\n",
    "repositoryUri"
   ]
  },
  {
   "cell_type": "code",
   "execution_count": null,
   "metadata": {},
   "outputs": [],
   "source": [
    "from datetime import datetime\n",
    "now = datetime.now()\n",
    "job_name = 'yolov4-' + now.strftime(\"%Y-%m-%d-%H-%M-%S\")\n",
    "job_name"
   ]
  },
  {
   "cell_type": "code",
   "execution_count": null,
   "metadata": {},
   "outputs": [],
   "source": [
    "import sagemaker\n",
    "from sagemaker import get_execution_role\n",
    "role = get_execution_role()"
   ]
  },
  {
   "cell_type": "code",
   "execution_count": null,
   "metadata": {},
   "outputs": [],
   "source": [
    "cfg='s3://{}/sagemaker_training_job/cfg/'.format(bucket)\n",
    "dinfo='s3://{}/sagemaker_training_job/dinfo/'.format(bucket)\n",
    "yolo_model='s3://{}/sagemaker_training_job/yolo_model/'.format(bucket)\n",
    "train='s3://{}/sagemaker_training_job/train/'.format(bucket)\n",
    "config_path='s3://{}/sagemaker_training_job/config_path/'.format(bucket)\n",
    "outpath='s3://{}/model/'.format(bucket)\n",
    "(cfg, dinfo, train, config_path, yolo_model, outpath) \n"
   ]
  },
  {
   "cell_type": "code",
   "execution_count": null,
   "metadata": {},
   "outputs": [],
   "source": [
    "sm = boto3.client('sagemaker')\n",
    "\n",
    "response = sm.create_training_job(\n",
    "      TrainingJobName=job_name,\n",
    "      HyperParameters={'momentum':'0.8'},\n",
    "      AlgorithmSpecification={\n",
    "          'TrainingImage': repositoryUri,\n",
    "          'TrainingInputMode': 'File',\n",
    "          \"MetricDefinitions\" : [\n",
    "            {\n",
    "            \"Name\": \"IOU\",\n",
    "            \"Regex\": \"\\(IOU: (.*?),\"\n",
    "            },\n",
    "             {\n",
    "            \"Name\": \"GIOU\",\n",
    "            \"Regex\": \"GIOU: (.*?)\\)\"\n",
    "            }]\n",
    "      },\n",
    "      RoleArn=role,\n",
    "      InputDataConfig=[\n",
    "          {\n",
    "              'ChannelName': 'cfg',\n",
    "              'DataSource': {\n",
    "                  'S3DataSource': {\n",
    "                      'S3DataType': 'S3Prefix',\n",
    "                      'S3Uri': cfg,\n",
    "                      'S3DataDistributionType': 'FullyReplicated',\n",
    "                  },\n",
    "              },\n",
    "              'InputMode': 'File'\n",
    "          },\n",
    "          {\n",
    "              'ChannelName': 'train',\n",
    "              'DataSource': {\n",
    "                  'S3DataSource': {\n",
    "                      'S3DataType': 'S3Prefix',                      \n",
    "                      'S3Uri': train,\n",
    "                      'S3DataDistributionType': 'FullyReplicated',\n",
    "                  },\n",
    "              },\n",
    "              'InputMode': 'File'\n",
    "          },\n",
    "          {\n",
    "              'ChannelName': 'config_path',\n",
    "              'DataSource': {\n",
    "                  'S3DataSource': {\n",
    "                      'S3DataType': 'S3Prefix',                      \n",
    "                      'S3Uri': config_path,\n",
    "                      'S3DataDistributionType': 'FullyReplicated',\n",
    "                  },\n",
    "              },\n",
    "              'InputMode': 'File'\n",
    "          },\n",
    "          {\n",
    "              'ChannelName': 'dinfo',\n",
    "              'DataSource': {\n",
    "                  'S3DataSource': {\n",
    "                      'S3DataType': 'S3Prefix',                      \n",
    "                      'S3Uri': dinfo,\n",
    "                      'S3DataDistributionType': 'FullyReplicated',\n",
    "                  },\n",
    "              },\n",
    "              'InputMode': 'File'\n",
    "          },\n",
    "          {\n",
    "              'ChannelName': 'yolo_model',\n",
    "              'DataSource': {\n",
    "                  'S3DataSource': {\n",
    "                      'S3DataType': 'S3Prefix',                      \n",
    "                      'S3Uri': yolo_model,\n",
    "                      'S3DataDistributionType': 'FullyReplicated',\n",
    "                  },\n",
    "              },\n",
    "              'InputMode': 'File'\n",
    "          },\n",
    "      ],\n",
    "      OutputDataConfig={\n",
    "          'S3OutputPath': outpath\n",
    "      },\n",
    "      ResourceConfig={\n",
    "          'InstanceType': 'ml.p3.2xlarge',\n",
    "          'InstanceCount': 1,\n",
    "          'VolumeSizeInGB': 10,\n",
    "      },\n",
    "      StoppingCondition={\n",
    "        'MaxRuntimeInSeconds': 60*60*5,\n",
    "      }\n",
    "  )\n",
    "response"
   ]
  },
  {
   "cell_type": "code",
   "execution_count": null,
   "metadata": {},
   "outputs": [],
   "source": []
  }
 ],
 "metadata": {
  "kernelspec": {
   "display_name": "conda_python3",
   "language": "python",
   "name": "conda_python3"
  },
  "language_info": {
   "codemirror_mode": {
    "name": "ipython",
    "version": 3
   },
   "file_extension": ".py",
   "mimetype": "text/x-python",
   "name": "python",
   "nbconvert_exporter": "python",
   "pygments_lexer": "ipython3",
   "version": "3.6.10"
  }
 },
 "nbformat": 4,
 "nbformat_minor": 4
}
